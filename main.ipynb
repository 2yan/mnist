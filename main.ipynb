{
 "cells": [
  {
   "cell_type": "code",
   "execution_count": 1,
   "metadata": {
    "extensions": {
     "jupyter_dashboards": {
      "version": 1,
      "views": {
       "grid_default": {
        "hidden": true
       },
       "report_default": {}
      }
     }
    },
    "scrolled": true
   },
   "outputs": [
    {
     "name": "stderr",
     "output_type": "stream",
     "text": [
      "Using TensorFlow backend.\n"
     ]
    }
   ],
   "source": [
    "import keras as kr\n",
    "from PIL import Image\n",
    "import pandas as pd\n",
    "import numpy as np\n",
    "import seaborn as sea\n",
    "from matplotlib import pyplot as plt\n",
    "from sklearn.preprocessing import LabelBinarizer as Enc"
   ]
  },
  {
   "cell_type": "code",
   "execution_count": 2,
   "metadata": {
    "extensions": {
     "jupyter_dashboards": {
      "version": 1,
      "views": {
       "grid_default": {
        "hidden": true
       },
       "report_default": {}
      }
     }
    }
   },
   "outputs": [],
   "source": [
    "from tensorflow.examples.tutorials.mnist import input_data "
   ]
  },
  {
   "cell_type": "code",
   "execution_count": 3,
   "metadata": {
    "extensions": {
     "jupyter_dashboards": {
      "version": 1,
      "views": {
       "grid_default": {
        "hidden": true
       },
       "report_default": {}
      }
     }
    }
   },
   "outputs": [
    {
     "name": "stdout",
     "output_type": "stream",
     "text": [
      "Extracting data\\train-images-idx3-ubyte.gz\n",
      "Extracting data\\train-labels-idx1-ubyte.gz\n",
      "Extracting data\\t10k-images-idx3-ubyte.gz\n",
      "Extracting data\\t10k-labels-idx1-ubyte.gz\n"
     ]
    }
   ],
   "source": [
    "mnist = input_data.read_data_sets('data', validation_size= 0)\n",
    "X = mnist.train.images\n",
    "Y = mnist.train.labels\n"
   ]
  },
  {
   "cell_type": "code",
   "execution_count": 6,
   "metadata": {
    "extensions": {
     "jupyter_dashboards": {
      "version": 1,
      "views": {
       "grid_default": {
        "hidden": true
       },
       "report_default": {}
      }
     }
    }
   },
   "outputs": [],
   "source": [
    "enc = Enc()\n",
    "y = enc.fit_transform(Y.reshape(-1, 1))"
   ]
  },
  {
   "cell_type": "code",
   "execution_count": 7,
   "metadata": {
    "extensions": {
     "jupyter_dashboards": {
      "version": 1,
      "views": {
       "grid_default": {
        "hidden": true
       },
       "report_default": {}
      }
     }
    }
   },
   "outputs": [],
   "source": [
    "def show_image(image):\n",
    "    x = image * 256\n",
    "    im = Image.fromarray(x.reshape((28,28)))\n",
    "    return im.convert('RGB')"
   ]
  },
  {
   "cell_type": "code",
   "execution_count": 96,
   "metadata": {
    "extensions": {
     "jupyter_dashboards": {
      "version": 1,
      "views": {
       "grid_default": {
        "hidden": true
       },
       "report_default": {}
      }
     }
    },
    "scrolled": true
   },
   "outputs": [],
   "source": [
    "def train(model, epochs =1 ):\n",
    "    callbacks = model.fit(X, y,batch_size = 32,epochs = epochs, verbose= 1, validation_data= (mnist.test.images, enc.transform(mnist.test.labels.reshape(-1, 1)) ) )\n",
    "    result = pd.DataFrame(callbacks.history)\n",
    "    return result"
   ]
  },
  {
   "cell_type": "code",
   "execution_count": 113,
   "metadata": {
    "extensions": {
     "jupyter_dashboards": {
      "version": 1,
      "views": {
       "grid_default": {
        "hidden": true
       },
       "report_default": {}
      }
     }
    },
    "scrolled": false
   },
   "outputs": [
    {
     "name": "stdout",
     "output_type": "stream",
     "text": [
      "Train on 60000 samples, validate on 10000 samples\n",
      "Epoch 1/10\n",
      "60000/60000 [==============================] - 3s 48us/step - loss: 0.1411 - acc: 0.9470 - val_loss: 0.0609 - val_acc: 0.9811\n",
      "Epoch 2/10\n",
      "60000/60000 [==============================] - 2s 37us/step - loss: 0.1105 - acc: 0.9585 - val_loss: 0.0514 - val_acc: 0.9832\n",
      "Epoch 3/10\n",
      "60000/60000 [==============================] - 2s 36us/step - loss: 0.1042 - acc: 0.9612 - val_loss: 0.0491 - val_acc: 0.9844\n",
      "Epoch 4/10\n",
      "60000/60000 [==============================] - 2s 36us/step - loss: 0.1003 - acc: 0.9627 - val_loss: 0.0472 - val_acc: 0.9849\n",
      "Epoch 5/10\n",
      "60000/60000 [==============================] - 2s 36us/step - loss: 0.0981 - acc: 0.9639 - val_loss: 0.0450 - val_acc: 0.9850\n",
      "Epoch 6/10\n",
      "60000/60000 [==============================] - 2s 37us/step - loss: 0.0961 - acc: 0.9646 - val_loss: 0.0444 - val_acc: 0.9854: 0s - loss: 0.09\n",
      "Epoch 7/10\n",
      "60000/60000 [==============================] - 2s 36us/step - loss: 0.0949 - acc: 0.9652 - val_loss: 0.0431 - val_acc: 0.9859\n",
      "Epoch 8/10\n",
      "60000/60000 [==============================] - 2s 36us/step - loss: 0.0933 - acc: 0.9659 - val_loss: 0.0431 - val_acc: 0.9861\n",
      "Epoch 9/10\n",
      "60000/60000 [==============================] - 2s 37us/step - loss: 0.0919 - acc: 0.9664 - val_loss: 0.0423 - val_acc: 0.9860\n",
      "Epoch 10/10\n",
      "60000/60000 [==============================] - 2s 37us/step - loss: 0.0909 - acc: 0.9669 - val_loss: 0.0416 - val_acc: 0.9863\n"
     ]
    },
    {
     "data": {
      "image/png": "[encoded data removed]",
      "text/plain": [
       "<matplotlib.figure.Figure at 0x3f083828>"
      ]
     },
     "metadata": {},
     "output_type": "display_data"
    },
    {
     "data": {
      "image/png": "[encoded data removed]",
      "text/plain": [
       "<matplotlib.figure.Figure at 0x3f201160>"
      ]
     },
     "metadata": {},
     "output_type": "display_data"
    }
   ],
   "source": [
    "def create_model(first = 128):\n",
    "    model = kr.Sequential()\n",
    "    model.add(kr.layers.Dense(first, input_shape = [X.shape[1]], activation = 'relu'))\n",
    "    model.add(kr.layers.Dropout(0.4))\n",
    "    model.add(kr.layers.Dense((y.shape[1]), activation=    'softmax'))\n",
    "    model.compile(loss='binary_crossentropy', optimizer='adam', metrics=['accuracy'])\n",
    "    return model\n",
    "\n",
    "model = create_model(16)\n",
    "test = train(model, 10)\n",
    "test[['acc', 'val_acc']].plot()\n",
    "plt.show()\n",
    "test[['loss', 'val_loss']].plot()\n",
    "plt.show()"
   ]
  },
  {
   "cell_type": "code",
   "execution_count": 98,
   "metadata": {
    "extensions": {
     "jupyter_dashboards": {
      "version": 1,
      "views": {
       "grid_default": {
        "hidden": true
       },
       "report_default": {}
      }
     }
    }
   },
   "outputs": [],
   "source": [
    "def predict(image_location, X):\n",
    "    prediction = model.predict(X[image_location: image_location + 1])\n",
    "    word = enc.inverse_transform(prediction)\n",
    "    print(word[0])\n",
    "    return show_image(X[image_location])"
   ]
  },
  {
   "cell_type": "code",
   "execution_count": 118,
   "metadata": {},
   "outputs": [
    {
     "data": {
      "image/png": "[encoded data removed]",
      "text/plain": [
       "<matplotlib.figure.Figure at 0x3f2c3898>"
      ]
     },
     "metadata": {},
     "output_type": "display_data"
    }
   ],
   "source": [
    "test[['acc', 'val_acc']].plot()\n",
    "plt.show()"
   ]
  },
  {
   "cell_type": "code",
   "execution_count": 116,
   "metadata": {
    "extensions": {
     "jupyter_dashboards": {
      "version": 1,
      "views": {
       "grid_default": {
        "hidden": true
       },
       "report_default": {}
      }
     }
    }
   },
   "outputs": [
    {
     "name": "stdout",
     "output_type": "stream",
     "text": [
      "3\n"
     ]
    },
    {
     "data": {
      "image/png": "[encoded data removed]",
      "text/plain": [
       "<PIL.Image.Image image mode=RGB size=28x28 at 0x25F66E48>"
      ]
     },
     "execution_count": 116,
     "metadata": {},
     "output_type": "execute_result"
    }
   ],
   "source": [
    "predict(63, mnist.test.images)"
   ]
  }
 ],
 "metadata": {
  "extensions": {
   "jupyter_dashboards": {
    "activeView": "grid_default",
    "version": 1,
    "views": {
     "grid_default": {
      "cellMargin": 10,
      "defaultCellHeight": 20,
      "maxColumns": 12,
      "name": "grid",
      "type": "grid"
     },
     "report_default": {
      "name": "report",
      "type": "report"
     }
    }
   }
  },
  "kernelspec": {
   "display_name": "Python 3",
   "language": "python",
   "name": "python3"
  },
  "language_info": {
   "codemirror_mode": {
    "name": "ipython",
    "version": 3
   },
   "file_extension": ".py",
   "mimetype": "text/x-python",
   "name": "python",
   "nbconvert_exporter": "python",
   "pygments_lexer": "ipython3",
   "version": "3.6.3"
  }
 },
 "nbformat": 4,
 "nbformat_minor": 2
}
